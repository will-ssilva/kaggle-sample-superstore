{
 "cells": [
  {
   "cell_type": "code",
   "execution_count": 68,
   "metadata": {},
   "outputs": [],
   "source": [
    "import pandas as pd\n",
    "\n",
    "df_superstore = pd.read_csv('data/SampleSuperstore.csv')\n",
    "\n",
    "columns_rename={\n",
    "    'Order ID': 'Id Pedido',\n",
    "    'Order Date': 'Data do Pedido',\n",
    "    'Ship Date': 'Data de Envio',\n",
    "    'Ship Mode': 'Modo de Envio',\n",
    "    'Customer ID': 'Id Cliente',\n",
    "    'Customer Name': 'Nome do Cliente',\n",
    "    'Segment': 'Segmento',\n",
    "    'City': 'Cidade',\n",
    "    'State': 'Estado',\n",
    "    'Country': 'País',\n",
    "    'Region': 'Região',\n",
    "    'Postal Code': 'Código Postal',\n",
    "    'Product ID': 'Id Produto',\n",
    "    'Category': 'Categoria do Produto',\n",
    "    'Sub-Category': 'Subcategoria do Produto',\n",
    "    'Product Name': 'Nome do Produto',\n",
    "    'Sales': 'Valor Total da Venda',\n",
    "    'Quantity': 'Quantidade de Itens',\n",
    "    'Discount': 'Desconto Aplicado',\n",
    "    'Profit': 'Lucro Obtido'\n",
    "}\n",
    "\n",
    "df_superstore.rename(columns=columns_rename, inplace=True)\n",
    "df_superstore['Código Postal'] = df_superstore['Código Postal'].astype(dtype=str)"
   ]
  },
  {
   "cell_type": "markdown",
   "metadata": {},
   "source": [
    "#### Análise Exploratória ####"
   ]
  },
  {
   "cell_type": "code",
   "execution_count": 11,
   "metadata": {},
   "outputs": [
    {
     "data": {
      "application/vnd.microsoft.datawrangler.viewer.v0+json": {
       "columns": [
        {
         "name": "index",
         "rawType": "object",
         "type": "string"
        },
        {
         "name": "Código Postal",
         "rawType": "float64",
         "type": "float"
        },
        {
         "name": "Valor Total da Venda",
         "rawType": "float64",
         "type": "float"
        },
        {
         "name": "Quantidade de Itens",
         "rawType": "float64",
         "type": "float"
        },
        {
         "name": "Desconto Aplicado",
         "rawType": "float64",
         "type": "float"
        },
        {
         "name": "Lucro Obtido",
         "rawType": "float64",
         "type": "float"
        }
       ],
       "conversionMethod": "pd.DataFrame",
       "ref": "5d269a9a-f37d-439b-ba15-cce1ef9bde50",
       "rows": [
        [
         "count",
         "9993.0",
         "9993.0",
         "9993.0",
         "9993.0",
         "9993.0"
        ],
        [
         "mean",
         "55186.62753927749",
         "229.85666969878918",
         "3.7897528269788854",
         "0.1562183528469929",
         "28.652464094866403"
        ],
        [
         "std",
         "32063.103800755795",
         "623.2762727258158",
         "2.2251490061179737",
         "0.20645638412566897",
         "234.27141072275202"
        ],
        [
         "min",
         "1040.0",
         "0.444",
         "1.0",
         "0.0",
         "-6599.978"
        ],
        [
         "25%",
         "23223.0",
         "17.28",
         "2.0",
         "0.0",
         "1.728"
        ],
        [
         "50%",
         "56301.0",
         "54.48",
         "3.0",
         "0.2",
         "8.662"
        ],
        [
         "75%",
         "90008.0",
         "209.94",
         "5.0",
         "0.2",
         "29.364"
        ],
        [
         "max",
         "99301.0",
         "22638.48",
         "14.0",
         "0.8",
         "8399.976"
        ]
       ],
       "shape": {
        "columns": 5,
        "rows": 8
       }
      },
      "text/html": [
       "<div>\n",
       "<style scoped>\n",
       "    .dataframe tbody tr th:only-of-type {\n",
       "        vertical-align: middle;\n",
       "    }\n",
       "\n",
       "    .dataframe tbody tr th {\n",
       "        vertical-align: top;\n",
       "    }\n",
       "\n",
       "    .dataframe thead th {\n",
       "        text-align: right;\n",
       "    }\n",
       "</style>\n",
       "<table border=\"1\" class=\"dataframe\">\n",
       "  <thead>\n",
       "    <tr style=\"text-align: right;\">\n",
       "      <th></th>\n",
       "      <th>Código Postal</th>\n",
       "      <th>Valor Total da Venda</th>\n",
       "      <th>Quantidade de Itens</th>\n",
       "      <th>Desconto Aplicado</th>\n",
       "      <th>Lucro Obtido</th>\n",
       "    </tr>\n",
       "  </thead>\n",
       "  <tbody>\n",
       "    <tr>\n",
       "      <th>count</th>\n",
       "      <td>9993.000000</td>\n",
       "      <td>9993.000000</td>\n",
       "      <td>9993.000000</td>\n",
       "      <td>9993.000000</td>\n",
       "      <td>9993.000000</td>\n",
       "    </tr>\n",
       "    <tr>\n",
       "      <th>mean</th>\n",
       "      <td>55186.627539</td>\n",
       "      <td>229.856670</td>\n",
       "      <td>3.789753</td>\n",
       "      <td>0.156218</td>\n",
       "      <td>28.652464</td>\n",
       "    </tr>\n",
       "    <tr>\n",
       "      <th>std</th>\n",
       "      <td>32063.103801</td>\n",
       "      <td>623.276273</td>\n",
       "      <td>2.225149</td>\n",
       "      <td>0.206456</td>\n",
       "      <td>234.271411</td>\n",
       "    </tr>\n",
       "    <tr>\n",
       "      <th>min</th>\n",
       "      <td>1040.000000</td>\n",
       "      <td>0.444000</td>\n",
       "      <td>1.000000</td>\n",
       "      <td>0.000000</td>\n",
       "      <td>-6599.978000</td>\n",
       "    </tr>\n",
       "    <tr>\n",
       "      <th>25%</th>\n",
       "      <td>23223.000000</td>\n",
       "      <td>17.280000</td>\n",
       "      <td>2.000000</td>\n",
       "      <td>0.000000</td>\n",
       "      <td>1.728000</td>\n",
       "    </tr>\n",
       "    <tr>\n",
       "      <th>50%</th>\n",
       "      <td>56301.000000</td>\n",
       "      <td>54.480000</td>\n",
       "      <td>3.000000</td>\n",
       "      <td>0.200000</td>\n",
       "      <td>8.662000</td>\n",
       "    </tr>\n",
       "    <tr>\n",
       "      <th>75%</th>\n",
       "      <td>90008.000000</td>\n",
       "      <td>209.940000</td>\n",
       "      <td>5.000000</td>\n",
       "      <td>0.200000</td>\n",
       "      <td>29.364000</td>\n",
       "    </tr>\n",
       "    <tr>\n",
       "      <th>max</th>\n",
       "      <td>99301.000000</td>\n",
       "      <td>22638.480000</td>\n",
       "      <td>14.000000</td>\n",
       "      <td>0.800000</td>\n",
       "      <td>8399.976000</td>\n",
       "    </tr>\n",
       "  </tbody>\n",
       "</table>\n",
       "</div>"
      ],
      "text/plain": [
       "       Código Postal  Valor Total da Venda  Quantidade de Itens  \\\n",
       "count    9993.000000           9993.000000          9993.000000   \n",
       "mean    55186.627539            229.856670             3.789753   \n",
       "std     32063.103801            623.276273             2.225149   \n",
       "min      1040.000000              0.444000             1.000000   \n",
       "25%     23223.000000             17.280000             2.000000   \n",
       "50%     56301.000000             54.480000             3.000000   \n",
       "75%     90008.000000            209.940000             5.000000   \n",
       "max     99301.000000          22638.480000            14.000000   \n",
       "\n",
       "       Desconto Aplicado  Lucro Obtido  \n",
       "count        9993.000000   9993.000000  \n",
       "mean            0.156218     28.652464  \n",
       "std             0.206456    234.271411  \n",
       "min             0.000000  -6599.978000  \n",
       "25%             0.000000      1.728000  \n",
       "50%             0.200000      8.662000  \n",
       "75%             0.200000     29.364000  \n",
       "max             0.800000   8399.976000  "
      ]
     },
     "execution_count": 11,
     "metadata": {},
     "output_type": "execute_result"
    }
   ],
   "source": [
    "df_superstore.describe()"
   ]
  },
  {
   "cell_type": "code",
   "execution_count": 36,
   "metadata": {},
   "outputs": [
    {
     "name": "stdout",
     "output_type": "stream",
     "text": [
      "<class 'pandas.core.frame.DataFrame'>\n",
      "RangeIndex: 9993 entries, 0 to 9992\n",
      "Data columns (total 13 columns):\n",
      " #   Column                   Non-Null Count  Dtype  \n",
      "---  ------                   --------------  -----  \n",
      " 0   Modo de Envio            9993 non-null   object \n",
      " 1   Segmento                 9993 non-null   object \n",
      " 2   País                     9993 non-null   object \n",
      " 3   Cidade                   9993 non-null   object \n",
      " 4   Estado                   9993 non-null   object \n",
      " 5   Código Postal            9993 non-null   object \n",
      " 6   Região                   9993 non-null   object \n",
      " 7   Categoria do Produto     9993 non-null   object \n",
      " 8   Subcategoria do Produto  9993 non-null   object \n",
      " 9   Valor Total da Venda     9993 non-null   float64\n",
      " 10  Quantidade de Itens      9993 non-null   int64  \n",
      " 11  Desconto Aplicado        9993 non-null   float64\n",
      " 12  Lucro Obtido             9993 non-null   float64\n",
      "dtypes: float64(3), int64(1), object(9)\n",
      "memory usage: 1015.0+ KB\n"
     ]
    }
   ],
   "source": [
    "df_superstore.info()"
   ]
  },
  {
   "cell_type": "code",
   "execution_count": 18,
   "metadata": {},
   "outputs": [
    {
     "data": {
      "text/plain": [
       "Modo de Envio              0\n",
       "Segmento                   0\n",
       "País                       0\n",
       "Cidade                     0\n",
       "Estado                     0\n",
       "Código Postal              0\n",
       "Região                     0\n",
       "Categoria do Produto       0\n",
       "Subcategoria do Produto    0\n",
       "Valor Total da Venda       0\n",
       "Quantidade de Itens        0\n",
       "Desconto Aplicado          0\n",
       "Lucro Obtido               0\n",
       "dtype: int64"
      ]
     },
     "execution_count": 18,
     "metadata": {},
     "output_type": "execute_result"
    }
   ],
   "source": [
    "df_superstore.isnull().sum()"
   ]
  },
  {
   "cell_type": "code",
   "execution_count": null,
   "metadata": {},
   "outputs": [],
   "source": [
    "df_superstore[df_superstore.duplicated(keep=False)]"
   ]
  },
  {
   "cell_type": "code",
   "execution_count": null,
   "metadata": {},
   "outputs": [],
   "source": []
  }
 ],
 "metadata": {
  "kernelspec": {
   "display_name": "Python 3",
   "language": "python",
   "name": "python3"
  },
  "language_info": {
   "codemirror_mode": {
    "name": "ipython",
    "version": 3
   },
   "file_extension": ".py",
   "mimetype": "text/x-python",
   "name": "python",
   "nbconvert_exporter": "python",
   "pygments_lexer": "ipython3",
   "version": "3.12.1"
  }
 },
 "nbformat": 4,
 "nbformat_minor": 2
}
